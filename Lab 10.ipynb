{
 "cells": [
  {
   "cell_type": "markdown",
   "id": "7bc13675-aa2e-4b5c-8cd6-694556c3f87d",
   "metadata": {},
   "source": [
    "## Lab 10 Problem 1"
   ]
  },
  {
   "cell_type": "code",
   "execution_count": 72,
   "id": "de10f180-a4f8-4b1e-a870-6f719b7dfbfa",
   "metadata": {},
   "outputs": [
    {
     "name": "stdout",
     "output_type": "stream",
     "text": [
      "COMMAND MENU\n",
      "list - List all movies\n",
      "add - Add a movie\n",
      "del - Delete a movie\n",
      "exit - exit program\n"
     ]
    },
    {
     "name": "stdin",
     "output_type": "stream",
     "text": [
      "Enter Command:  list\n"
     ]
    },
    {
     "name": "stdout",
     "output_type": "stream",
     "text": [
      "1 A Star is Born (2018)\n",
      "2 An Old Man and a Gun (2018)\n",
      "3 The Spy Who Dumped Me (2017)\n",
      "\n",
      "COMMAND MENU\n",
      "list - List all movies\n",
      "add - Add a movie\n",
      "del - Delete a movie\n",
      "exit - exit program\n"
     ]
    },
    {
     "name": "stdin",
     "output_type": "stream",
     "text": [
      "Enter Command:  del\n"
     ]
    },
    {
     "name": "stdout",
     "output_type": "stream",
     "text": [
      "You'll be back!\n"
     ]
    },
    {
     "name": "stdin",
     "output_type": "stream",
     "text": [
      "Movie number:  1\n"
     ]
    },
    {
     "name": "stdout",
     "output_type": "stream",
     "text": [
      "A Star is Born was deleted.\n",
      "\n",
      "COMMAND MENU\n",
      "list - List all movies\n",
      "add - Add a movie\n",
      "del - Delete a movie\n",
      "exit - exit program\n"
     ]
    },
    {
     "name": "stdin",
     "output_type": "stream",
     "text": [
      "Enter Command:  list\n"
     ]
    },
    {
     "name": "stdout",
     "output_type": "stream",
     "text": [
      "You'll be back!\n",
      "1 An Old Man and a Gun (2018)\n",
      "2 The Spy Who Dumped Me (2017)\n",
      "\n",
      "COMMAND MENU\n",
      "list - List all movies\n",
      "add - Add a movie\n",
      "del - Delete a movie\n",
      "exit - exit program\n"
     ]
    },
    {
     "name": "stdin",
     "output_type": "stream",
     "text": [
      "Enter Command:  add\n"
     ]
    },
    {
     "name": "stdout",
     "output_type": "stream",
     "text": [
      "You'll be back!\n"
     ]
    },
    {
     "name": "stdin",
     "output_type": "stream",
     "text": [
      "Movie Name:  fjfj\n",
      "Movie Year:  232\n"
     ]
    },
    {
     "name": "stdout",
     "output_type": "stream",
     "text": [
      "fjfj was added.\n",
      "\n",
      "COMMAND MENU\n",
      "list - List all movies\n",
      "add - Add a movie\n",
      "del - Delete a movie\n",
      "exit - exit program\n"
     ]
    },
    {
     "name": "stdin",
     "output_type": "stream",
     "text": [
      "Enter Command:  list\n"
     ]
    },
    {
     "name": "stdout",
     "output_type": "stream",
     "text": [
      "You'll be back!\n",
      "1 An Old Man and a Gun (2018)\n",
      "2 The Spy Who Dumped Me (2017)\n",
      "3 fjfj (232)\n",
      "\n",
      "COMMAND MENU\n",
      "list - List all movies\n",
      "add - Add a movie\n",
      "del - Delete a movie\n",
      "exit - exit program\n"
     ]
    },
    {
     "name": "stdin",
     "output_type": "stream",
     "text": [
      "Enter Command:  exit\n"
     ]
    },
    {
     "name": "stdout",
     "output_type": "stream",
     "text": [
      "You'll be back!\n"
     ]
    }
   ],
   "source": [
    "# Authors: Tyler - Group 9\n",
    "# Movie - Phase 2 - Movie Name and Movie Year\n",
    "\n",
    "class Movie:\n",
    "    \n",
    "    def __init__(self, name, year):\n",
    "        \"\"\"\n",
    "        this is the constructor \n",
    "        \"\"\"\n",
    "        self.__name = name\n",
    "        self.__year = year\n",
    "        \n",
    "    def getName(self):\n",
    "        \"\"\"\n",
    "        This function gets the name of the list \n",
    "        \"\"\"\n",
    "        return self.__name\n",
    "        \n",
    "    def getYear(self):\n",
    "        \"\"\"\n",
    "        gets the year of the list \n",
    "        \"\"\"\n",
    "        return self.__year\n",
    "        \n",
    "    def setName(self, name):\n",
    "        \"\"\"\n",
    "        sets the name from the list \n",
    "        \"\"\"\n",
    "        self.__name = name\n",
    "\n",
    "    def setYear(self, year):\n",
    "        \"\"\"\n",
    "        sets the year from the list \n",
    "        \"\"\"\n",
    "        self.__year = year\n",
    "\n",
    "    def getStr(self):\n",
    "        \"\"\"\n",
    "        prints out the name and year \n",
    "        \"\"\"\n",
    "        return f\"{self.__name} ({self.__year})\"\n",
    "        \n",
    "\n",
    "def display_menu():\n",
    "    \"\"\"\n",
    "    the display function displays the menu\n",
    "    \"\"\"\n",
    "    print(\"COMMAND MENU\")\n",
    "    print(\"list - List all movies\")\n",
    "    print(\"add - Add a movie\")\n",
    "    print(\"del - Delete a movie\")\n",
    "    print(\"exit - exit program\")\n",
    "\n",
    "def list(movie_list):\n",
    "    \"\"\"\n",
    "    the list function shows the list\n",
    "    \"\"\"\n",
    "    if not movie_list:\n",
    "        print(\"There are no movies in the list.\\n\")\n",
    "    else:\n",
    "        count = 1\n",
    "        for movie in movie_list:\n",
    "           print(str(count) + \" \" + movie.getStr())\n",
    "           count += 1 \n",
    "    print()\n",
    "        \n",
    "\n",
    "def add(movie_list):\n",
    "    \"\"\"\n",
    "    the add function adds a movie to the list\n",
    "    \"\"\"\n",
    "    name = input(\"Movie Name: \")\n",
    "    year = input(\"Movie Year: \")\n",
    "    movie = Movie(name, year)\n",
    "    movie_list.append(movie)\n",
    "    print(movie.getName() + \" was added.\\n\")\n",
    "    \n",
    "\n",
    "def delete(movie_list):\n",
    "    \"\"\"\n",
    "    The function deletes the move from the lsit\n",
    "    \"\"\"\n",
    "    number = int(input(\"Movie number: \"))\n",
    "    if number < 1 or number > len(movie_list):\n",
    "        print(\"Invalid movie number.\\n\")\n",
    "    else:\n",
    "        movie = movie_list.pop(number-1)\n",
    "        print(movie.getName() + \" was deleted.\\n\")\n",
    "\n",
    "def main():\n",
    "    \"\"\"\n",
    "    This is the Main \n",
    "    \"\"\"\n",
    "    movie_list = [Movie(\"A Star is Born\", 2018),\n",
    "                  Movie(\"An Old Man and a Gun\", 2018),\n",
    "                  Movie(\"The Spy Who Dumped Me\", 2017)]\n",
    "\n",
    "    display_menu()\n",
    "    command = input(\"Enter Command: \")\n",
    "\n",
    "    while (command.lower() != \"exit\"):\n",
    "\n",
    "        if command.lower() == \"list\":\n",
    "            list(movie_list)\n",
    "            display_menu()\n",
    "        elif command.lower() == \"add\":\n",
    "            add(movie_list)\n",
    "            display_menu()\n",
    "        elif command.lower() == \"del\":\n",
    "            delete(movie_list)\n",
    "            display_menu()\n",
    "        else:\n",
    "            print(\"Not a valid command. Please try again.\\n\")\n",
    "\n",
    "        command = input(\"Enter Command: \")\n",
    "\n",
    "        print(\"You'll be back!\")\n",
    "\n",
    "if __name__ == \"__main__\":\n",
    "    main()\n",
    "          "
   ]
  },
  {
   "cell_type": "code",
   "execution_count": null,
   "id": "e67f5b0d-b034-49c6-8cd4-6da11bd1d703",
   "metadata": {},
   "outputs": [],
   "source": []
  }
 ],
 "metadata": {
  "kernelspec": {
   "display_name": "Python 3 (ipykernel)",
   "language": "python",
   "name": "python3"
  },
  "language_info": {
   "codemirror_mode": {
    "name": "ipython",
    "version": 3
   },
   "file_extension": ".py",
   "mimetype": "text/x-python",
   "name": "python",
   "nbconvert_exporter": "python",
   "pygments_lexer": "ipython3",
   "version": "3.12.4"
  }
 },
 "nbformat": 4,
 "nbformat_minor": 5
}
